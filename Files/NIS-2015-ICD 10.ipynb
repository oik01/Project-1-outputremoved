{
 "cells": [
  {
   "cell_type": "code",
   "execution_count": 6,
   "metadata": {},
   "outputs": [],
   "source": [
    "import pandas as pd "
   ]
  },
  {
   "cell_type": "code",
   "execution_count": 7,
   "metadata": {},
   "outputs": [],
   "source": [
    "file = '/Volumes/My Passport for Mac/NIS/2015 NIS/nis_2015_core_q4.sas7bdat'\n"
   ]
  },
  {
   "cell_type": "code",
   "execution_count": 8,
   "metadata": {},
   "outputs": [],
   "source": [
    "NISchunk= pd.read_sas(file,format='sas7bdat', index=None, encoding='ISO-8859-1', chunksize= 100000)\n",
    "chunk_list = []  # append each chunk df here \n",
    "\n",
    "\n"
   ]
  },
  {
   "cell_type": "code",
   "execution_count": 9,
   "metadata": {},
   "outputs": [
    {
     "data": {
      "text/plain": [
       "['AGE',\n",
       " 'AGE_NEONATE',\n",
       " 'AMONTH',\n",
       " 'AWEEKEND',\n",
       " 'DIED',\n",
       " 'DISCWT',\n",
       " 'DISPUNIFORM',\n",
       " 'DQTR',\n",
       " 'ELECTIVE',\n",
       " 'FEMALE',\n",
       " 'HCUP_ED',\n",
       " 'HOSP_DIVISION',\n",
       " 'HOSP_NIS',\n",
       " 'KEY_NIS',\n",
       " 'LOS',\n",
       " 'NIS_STRATUM',\n",
       " 'PAY1',\n",
       " 'PL_NCHS',\n",
       " 'RACE',\n",
       " 'TOTCHG',\n",
       " 'TRAN_IN',\n",
       " 'TRAN_OUT',\n",
       " 'YEAR',\n",
       " 'ZIPINC_QRTL',\n",
       " 'DRG',\n",
       " 'DRG_NoPOA',\n",
       " 'DRGVER',\n",
       " 'DXVER',\n",
       " 'I10_DX1',\n",
       " 'I10_DX2',\n",
       " 'I10_DX3',\n",
       " 'I10_DX4',\n",
       " 'I10_DX5',\n",
       " 'I10_DX6',\n",
       " 'I10_DX7',\n",
       " 'I10_DX8',\n",
       " 'I10_DX9',\n",
       " 'I10_DX10',\n",
       " 'I10_DX11',\n",
       " 'I10_DX12',\n",
       " 'I10_DX13',\n",
       " 'I10_DX14',\n",
       " 'I10_DX15',\n",
       " 'I10_DX16',\n",
       " 'I10_DX17',\n",
       " 'I10_DX18',\n",
       " 'I10_DX19',\n",
       " 'I10_DX20',\n",
       " 'I10_DX21',\n",
       " 'I10_DX22',\n",
       " 'I10_DX23',\n",
       " 'I10_DX24',\n",
       " 'I10_DX25',\n",
       " 'I10_DX26',\n",
       " 'I10_DX27',\n",
       " 'I10_DX28',\n",
       " 'I10_DX29',\n",
       " 'I10_DX30',\n",
       " 'I10_ECAUSE1',\n",
       " 'I10_ECAUSE2',\n",
       " 'I10_ECAUSE3',\n",
       " 'I10_ECAUSE4',\n",
       " 'I10_NDX',\n",
       " 'I10_NECAUSE',\n",
       " 'I10_NPR',\n",
       " 'I10_PR1',\n",
       " 'I10_PR2',\n",
       " 'I10_PR3',\n",
       " 'I10_PR4',\n",
       " 'I10_PR5',\n",
       " 'I10_PR6',\n",
       " 'I10_PR7',\n",
       " 'I10_PR8',\n",
       " 'I10_PR9',\n",
       " 'I10_PR10',\n",
       " 'I10_PR11',\n",
       " 'I10_PR12',\n",
       " 'I10_PR13',\n",
       " 'I10_PR14',\n",
       " 'I10_PR15',\n",
       " 'MDC',\n",
       " 'MDC_NoPOA',\n",
       " 'PRDAY1',\n",
       " 'PRDAY2',\n",
       " 'PRDAY3',\n",
       " 'PRDAY4',\n",
       " 'PRDAY5',\n",
       " 'PRDAY6',\n",
       " 'PRDAY7',\n",
       " 'PRDAY8',\n",
       " 'PRDAY9',\n",
       " 'PRDAY10',\n",
       " 'PRDAY11',\n",
       " 'PRDAY12',\n",
       " 'PRDAY13',\n",
       " 'PRDAY14',\n",
       " 'PRDAY15',\n",
       " 'PRVER']"
      ]
     },
     "execution_count": 9,
     "metadata": {},
     "output_type": "execute_result"
    }
   ],
   "source": [
    "for chunk in NISchunk:  \n",
    "    df_concat = pd.DataFrame(chunk)\n",
    "    break\n",
    "list(df_concat.columns)    "
   ]
  },
  {
   "cell_type": "code",
   "execution_count": 11,
   "metadata": {},
   "outputs": [
    {
     "name": "stdout",
     "output_type": "stream",
     "text": [
      "created a dataframe with influenza admissions\n",
      "created a dataframe with MI admissions\n",
      "created a dataframe with only regional Influenza admissions\n",
      "created a dataframe with only total Influenza admissions incidence\n",
      "created a dataframe with only regional MI admissions incidence\n",
      "created a dataframe with only total MI admissions incidence\n"
     ]
    }
   ],
   "source": [
    "# Each chunk is in df format\n",
    "for chunk in NISchunk:  \n",
    "    chunk_list.append(chunk[['AGE', 'AMONTH', 'DIED', 'DISCWT', 'DXVER', 'FEMALE', 'HOSP_DIVISION', 'I10_DX1', 'I10_DX2', 'I10_DX3', 'I10_DX4', 'I10_DX5', 'I10_DX6', 'I10_DX7', 'I10_DX8', 'I10_DX9', 'I10_DX10', 'I10_DX11', 'I10_DX12', 'I10_DX13', 'I10_DX14', 'I10_DX15', 'I10_DX16', 'I10_DX17', 'I10_DX18', 'I10_DX19', 'I10_DX20', 'I10_DX21', 'I10_DX22', 'I10_DX23', 'I10_DX24', 'I10_DX25', 'I10_DX26', 'I10_DX27', 'I10_DX28', 'I10_DX29', 'I10_DX30', 'LOS', 'KEY_NIS', 'RACE', 'TOTCHG', 'YEAR']])\n",
    "    df_concat = pd.concat(chunk_list)\n",
    "    #Create a column specifying if the discharge had a diagnosis of Influenza\n",
    "\n",
    "Influenza= ['J09X1', 'J09X2', 'J09X3', 'J09X9', 'J1000', 'J1001', 'J1008', 'J101', 'J102', 'J1081', 'J1082', 'J1083', 'J1089', 'J1100', 'J1108', 'J111', 'J112', 'J1181', 'J1182', 'J1183', 'J1189']\n",
    "df_concat['Influenza'] = df_concat['I10_DX1'].isin(Influenza)| df_concat['I10_DX2'].isin(Influenza)| df_concat['I10_DX3'].isin(Influenza)| df_concat['I10_DX4'].isin(Influenza)| df_concat['I10_DX5'].isin(Influenza)| df_concat['I10_DX6'].isin(Influenza)| df_concat['I10_DX7'].isin(Influenza)| df_concat['I10_DX8'].isin(Influenza)| df_concat['I10_DX9'].isin(Influenza)| df_concat['I10_DX10'].isin(Influenza)| df_concat['I10_DX11'].isin(Influenza)| df_concat['I10_DX12'].isin(Influenza)| df_concat['I10_DX13'].isin(Influenza)| df_concat['I10_DX14'].isin(Influenza)| df_concat['I10_DX15'].isin(Influenza)| df_concat['I10_DX16'].isin(Influenza)| df_concat['I10_DX17'].isin(Influenza)| df_concat['I10_DX18'].isin(Influenza)| df_concat['I10_DX19'].isin(Influenza)| df_concat['I10_DX20'].isin(Influenza)| df_concat['I10_DX21'].isin(Influenza)| df_concat['I10_DX22'].isin(Influenza)| df_concat['I10_DX23'].isin(Influenza)| df_concat['I10_DX24'].isin(Influenza)| df_concat['I10_DX25'].isin(Influenza)| df_concat['I10_DX26'].isin(Influenza)| df_concat['I10_DX27'].isin(Influenza)| df_concat['I10_DX28'].isin(Influenza)| df_concat['I10_DX29'].isin(Influenza)| df_concat['I10_DX30'].isin(Influenza)\n",
    "print(f'created a dataframe with influenza admissions')\n",
    "\n",
    "    # Create a column specifying if the discharge had a diagnosis of myocardial infarction\n",
    "MI = [\"I2101\", \"I2102\", 'I2109', 'I2111', 'I2119', 'I2121', 'I2129', 'I213', 'I214', 'I219', 'I21A1', 'I21A9', 'I220', 'I221', 'I222', 'I228', 'I229', 'I230', 'I231', 'I232', 'I233', 'I234', 'I235', 'I236', 'I237', 'I238', 'I241']\n",
    "df_concat['MI'] = df_concat['I10_DX1'].isin(MI)| df_concat['I10_DX2'].isin(MI)| df_concat['I10_DX3'].isin(MI)| df_concat['I10_DX4'].isin(MI)| df_concat['I10_DX5'].isin(MI)| df_concat['I10_DX6'].isin(MI)| df_concat['I10_DX7'].isin(MI)| df_concat['I10_DX8'].isin(MI)| df_concat['I10_DX9'].isin(MI)| df_concat['I10_DX10'].isin(MI)| df_concat['I10_DX11'].isin(MI)| df_concat['I10_DX12'].isin(MI)| df_concat['I10_DX13'].isin(MI)| df_concat['I10_DX14'].isin(MI)| df_concat['I10_DX15'].isin(MI)| df_concat['I10_DX16'].isin(MI)| df_concat['I10_DX17'].isin(MI)| df_concat['I10_DX18'].isin(MI)| df_concat['I10_DX19'].isin(MI)| df_concat['I10_DX20'].isin(MI)| df_concat['I10_DX21'].isin(MI)| df_concat['I10_DX22'].isin(MI)| df_concat['I10_DX23'].isin(MI)| df_concat['I10_DX24'].isin(MI)| df_concat['I10_DX25'].isin(MI)| df_concat['I10_DX26'].isin(MI)| df_concat['I10_DX27'].isin(MI)| df_concat['I10_DX28'].isin(MI)| df_concat['I10_DX29'].isin(MI)| df_concat['I10_DX30'].isin(MI)\n",
    "print(f'created a dataframe with MI admissions' )\n",
    "    # Create a new data frame object grouped by region and month and only including influenza discharges\n",
    "Influenza_Regional = pd.DataFrame(df_concat.loc[df_concat['Influenza']== True].groupby(['YEAR','HOSP_DIVISION','AMONTH']).sum())\n",
    "Influenza_Regional = Influenza_Regional[['DISCWT']]\n",
    "Influenza_Regional = Influenza_Regional.rename(columns = {'DISCWT': 'Influenza Incidence'})\n",
    "print(f'created a dataframe with only regional Influenza admissions' )\n",
    "\n",
    "    # Same process without region for a total incidence \n",
    "Influenza_Total = pd.DataFrame(df_concat.loc[df_concat['Influenza']== True].groupby(['YEAR','AMONTH']).sum())\n",
    "Influenza_Total = Influenza_Total[['DISCWT']]\n",
    "Influenza_Total = Influenza_Total.rename(columns = {'DISCWT': 'Influenza Incidence'})\n",
    "print(f'created a dataframe with only total Influenza admissions incidence' )\n",
    "\n",
    "    # MI Regional\n",
    "MI_Regional = pd.DataFrame(df_concat.loc[df_concat['MI']== True].groupby(['YEAR','HOSP_DIVISION','AMONTH']).sum())\n",
    "MI_Regional = MI_Regional[['DISCWT']]\n",
    "MI_Regional = MI_Regional.rename(columns = {'DISCWT': 'MI Incidence'})\n",
    "print(f'created a dataframe with only regional MI admissions incidence' )\n",
    "\n",
    "    # MI Total\n",
    "MI_Total = pd.DataFrame(df_concat.loc[df_concat['MI']== True].groupby(['YEAR','AMONTH']).sum())\n",
    "MI_Total = MI_Total[['DISCWT']]\n",
    "MI_Total = MI_Total.rename(columns = {'DISCWT': 'MI Incidence'})\n",
    "print(f'created a dataframe with only total MI admissions incidence' )\n",
    "\n",
    "Both_Regional = pd.merge(Influenza_Regional, MI_Regional, how = 'inner', on= ['YEAR','HOSP_DIVISION','AMONTH'])\n",
    "Both_Total = pd.merge(Influenza_Total, MI_Total, how = 'inner', on= ['YEAR','AMONTH'])\n",
    "      \n"
   ]
  },
  {
   "cell_type": "markdown",
   "metadata": {},
   "source": [
    "# "
   ]
  },
  {
   "cell_type": "code",
   "execution_count": 16,
   "metadata": {},
   "outputs": [],
   "source": [
    "Both_Regional.to_csv(\"/Users/omarkreidieh/Documents/GitHub/Flu-Project/Output Files/2015_Q4Regionalincidence.csv\", index = True, header = True)"
   ]
  },
  {
   "cell_type": "code",
   "execution_count": 15,
   "metadata": {},
   "outputs": [],
   "source": [
    "Both_Total.to_csv(\"/Users/omarkreidieh/Documents/GitHub/Flu-Project/Output Files/2015_Q4Totalincidence.csv\", index = True, header = True)"
   ]
  },
  {
   "cell_type": "code",
   "execution_count": 17,
   "metadata": {},
   "outputs": [
    {
     "data": {
      "text/html": [
       "<div>\n",
       "<style scoped>\n",
       "    .dataframe tbody tr th:only-of-type {\n",
       "        vertical-align: middle;\n",
       "    }\n",
       "\n",
       "    .dataframe tbody tr th {\n",
       "        vertical-align: top;\n",
       "    }\n",
       "\n",
       "    .dataframe thead th {\n",
       "        text-align: right;\n",
       "    }\n",
       "</style>\n",
       "<table border=\"1\" class=\"dataframe\">\n",
       "  <thead>\n",
       "    <tr style=\"text-align: right;\">\n",
       "      <th></th>\n",
       "      <th></th>\n",
       "      <th>Influenza Incidence</th>\n",
       "      <th>MI Incidence</th>\n",
       "    </tr>\n",
       "    <tr>\n",
       "      <th>YEAR</th>\n",
       "      <th>AMONTH</th>\n",
       "      <th></th>\n",
       "      <th></th>\n",
       "    </tr>\n",
       "  </thead>\n",
       "  <tbody>\n",
       "    <tr>\n",
       "      <th rowspan=\"7\" valign=\"top\">2015.0</th>\n",
       "      <th>5.0</th>\n",
       "      <td>10.000025</td>\n",
       "      <td>4.999873</td>\n",
       "    </tr>\n",
       "    <tr>\n",
       "      <th>6.0</th>\n",
       "      <td>4.999996</td>\n",
       "      <td>10.000012</td>\n",
       "    </tr>\n",
       "    <tr>\n",
       "      <th>7.0</th>\n",
       "      <td>5.000016</td>\n",
       "      <td>44.999891</td>\n",
       "    </tr>\n",
       "    <tr>\n",
       "      <th>9.0</th>\n",
       "      <td>334.999500</td>\n",
       "      <td>11844.997893</td>\n",
       "    </tr>\n",
       "    <tr>\n",
       "      <th>10.0</th>\n",
       "      <td>2599.997768</td>\n",
       "      <td>71134.974467</td>\n",
       "    </tr>\n",
       "    <tr>\n",
       "      <th>11.0</th>\n",
       "      <td>3070.003122</td>\n",
       "      <td>71179.969978</td>\n",
       "    </tr>\n",
       "    <tr>\n",
       "      <th>12.0</th>\n",
       "      <td>3454.998439</td>\n",
       "      <td>63289.977243</td>\n",
       "    </tr>\n",
       "  </tbody>\n",
       "</table>\n",
       "</div>"
      ],
      "text/plain": [
       "               Influenza Incidence  MI Incidence\n",
       "YEAR   AMONTH                                   \n",
       "2015.0 5.0               10.000025      4.999873\n",
       "       6.0                4.999996     10.000012\n",
       "       7.0                5.000016     44.999891\n",
       "       9.0              334.999500  11844.997893\n",
       "       10.0            2599.997768  71134.974467\n",
       "       11.0            3070.003122  71179.969978\n",
       "       12.0            3454.998439  63289.977243"
      ]
     },
     "execution_count": 17,
     "metadata": {},
     "output_type": "execute_result"
    }
   ],
   "source": [
    "Both_Total"
   ]
  },
  {
   "cell_type": "code",
   "execution_count": null,
   "metadata": {},
   "outputs": [],
   "source": []
  }
 ],
 "metadata": {
  "kernelspec": {
   "display_name": "Python 3",
   "language": "python",
   "name": "python3"
  },
  "language_info": {
   "codemirror_mode": {
    "name": "ipython",
    "version": 3
   },
   "file_extension": ".py",
   "mimetype": "text/x-python",
   "name": "python",
   "nbconvert_exporter": "python",
   "pygments_lexer": "ipython3",
   "version": "3.6.7"
  }
 },
 "nbformat": 4,
 "nbformat_minor": 2
}
