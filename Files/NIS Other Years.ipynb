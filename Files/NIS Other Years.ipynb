{
 "cells": [
  {
   "cell_type": "code",
   "execution_count": 1,
   "metadata": {},
   "outputs": [],
   "source": [
    "import pandas as pd "
   ]
  },
  {
   "cell_type": "code",
   "execution_count": 2,
   "metadata": {},
   "outputs": [
    {
     "data": {
      "text/html": [
       "<div>\n",
       "<style scoped>\n",
       "    .dataframe tbody tr th:only-of-type {\n",
       "        vertical-align: middle;\n",
       "    }\n",
       "\n",
       "    .dataframe tbody tr th {\n",
       "        vertical-align: top;\n",
       "    }\n",
       "\n",
       "    .dataframe thead th {\n",
       "        text-align: right;\n",
       "    }\n",
       "</style>\n",
       "<table border=\"1\" class=\"dataframe\">\n",
       "  <thead>\n",
       "    <tr style=\"text-align: right;\">\n",
       "      <th></th>\n",
       "      <th></th>\n",
       "      <th></th>\n",
       "      <th>Influenza Incidence</th>\n",
       "      <th>MI Incidence</th>\n",
       "    </tr>\n",
       "    <tr>\n",
       "      <th>YEAR</th>\n",
       "      <th>HOSP_DIVISION</th>\n",
       "      <th>AMONTH</th>\n",
       "      <th></th>\n",
       "      <th></th>\n",
       "    </tr>\n",
       "  </thead>\n",
       "  <tbody>\n",
       "  </tbody>\n",
       "</table>\n",
       "</div>"
      ],
      "text/plain": [
       "Empty DataFrame\n",
       "Columns: [Influenza Incidence, MI Incidence]\n",
       "Index: []"
      ]
     },
     "execution_count": 2,
     "metadata": {},
     "output_type": "execute_result"
    }
   ],
   "source": [
    "NIS_Files = ['/Volumes/My Passport for Mac/NIS/2012/nis_2012_core.sas7bdat', '/Volumes/My Passport for Mac/NIS/2013/nis_2013_core.sas7bdat']\n",
    "Both_Main = pd.DataFrame(columns = ['YEAR','HOSP_DIVISION','AMONTH','Influenza Incidence', 'MI Incidence' ])\n",
    "Both_Main.set_index(['YEAR','HOSP_DIVISION','AMONTH'])"
   ]
  },
  {
   "cell_type": "code",
   "execution_count": 5,
   "metadata": {},
   "outputs": [
    {
     "name": "stdout",
     "output_type": "stream",
     "text": [
      "Created Chunk List for: /Volumes/My Passport for Mac/NIS/2012/nis_2012_core.sas7bdat\n"
     ]
    },
    {
     "ename": "KeyError",
     "evalue": "\"['I10_DX25', 'I10_DX6', 'I10_DX26', 'I10_DX27', 'I10_DX22', 'I10_DX1', 'I10_DX13', 'I10_DX28', 'I10_DX4', 'I10_DX9', 'I10_DX7', 'I10_DX16', 'I10_DX10', 'I10_DX2', 'I10_DX12', 'I10_DX21', 'I10_DX17', 'I10_DX3', 'DXVER', 'I10_DX15', 'I10_DX29', 'I10_DX11', 'I10_DX30', 'I10_DX18', 'I10_DX5', 'I10_DX14', 'I10_DX8', 'I10_DX20', 'I10_DX23', 'I10_DX19', 'I10_DX24'] not in index\"",
     "output_type": "error",
     "traceback": [
      "\u001b[0;31m---------------------------------------------------------------------------\u001b[0m",
      "\u001b[0;31mKeyError\u001b[0m                                  Traceback (most recent call last)",
      "\u001b[0;32m<ipython-input-5-72fb3c491cef>\u001b[0m in \u001b[0;36m<module>\u001b[0;34m\u001b[0m\n\u001b[1;32m      6\u001b[0m \u001b[0;31m# Each chunk is in df format\u001b[0m\u001b[0;34m\u001b[0m\u001b[0;34m\u001b[0m\u001b[0;34m\u001b[0m\u001b[0m\n\u001b[1;32m      7\u001b[0m     \u001b[0;32mfor\u001b[0m \u001b[0mchunk\u001b[0m \u001b[0;32min\u001b[0m \u001b[0mNISchunk\u001b[0m\u001b[0;34m:\u001b[0m\u001b[0;34m\u001b[0m\u001b[0;34m\u001b[0m\u001b[0m\n\u001b[0;32m----> 8\u001b[0;31m         \u001b[0mchunk_list\u001b[0m\u001b[0;34m.\u001b[0m\u001b[0mappend\u001b[0m\u001b[0;34m(\u001b[0m\u001b[0mchunk\u001b[0m\u001b[0;34m[\u001b[0m\u001b[0;34m[\u001b[0m\u001b[0;34m'AGE'\u001b[0m\u001b[0;34m,\u001b[0m \u001b[0;34m'AMONTH'\u001b[0m\u001b[0;34m,\u001b[0m \u001b[0;34m'DIED'\u001b[0m\u001b[0;34m,\u001b[0m \u001b[0;34m'DISCWT'\u001b[0m\u001b[0;34m,\u001b[0m \u001b[0;34m'DXVER'\u001b[0m\u001b[0;34m,\u001b[0m \u001b[0;34m'FEMALE'\u001b[0m\u001b[0;34m,\u001b[0m \u001b[0;34m'HOSP_DIVISION'\u001b[0m\u001b[0;34m,\u001b[0m \u001b[0;34m'I10_DX1'\u001b[0m\u001b[0;34m,\u001b[0m \u001b[0;34m'I10_DX2'\u001b[0m\u001b[0;34m,\u001b[0m \u001b[0;34m'I10_DX3'\u001b[0m\u001b[0;34m,\u001b[0m \u001b[0;34m'I10_DX4'\u001b[0m\u001b[0;34m,\u001b[0m \u001b[0;34m'I10_DX5'\u001b[0m\u001b[0;34m,\u001b[0m \u001b[0;34m'I10_DX6'\u001b[0m\u001b[0;34m,\u001b[0m \u001b[0;34m'I10_DX7'\u001b[0m\u001b[0;34m,\u001b[0m \u001b[0;34m'I10_DX8'\u001b[0m\u001b[0;34m,\u001b[0m \u001b[0;34m'I10_DX9'\u001b[0m\u001b[0;34m,\u001b[0m \u001b[0;34m'I10_DX10'\u001b[0m\u001b[0;34m,\u001b[0m \u001b[0;34m'I10_DX11'\u001b[0m\u001b[0;34m,\u001b[0m \u001b[0;34m'I10_DX12'\u001b[0m\u001b[0;34m,\u001b[0m \u001b[0;34m'I10_DX13'\u001b[0m\u001b[0;34m,\u001b[0m \u001b[0;34m'I10_DX14'\u001b[0m\u001b[0;34m,\u001b[0m \u001b[0;34m'I10_DX15'\u001b[0m\u001b[0;34m,\u001b[0m \u001b[0;34m'I10_DX16'\u001b[0m\u001b[0;34m,\u001b[0m \u001b[0;34m'I10_DX17'\u001b[0m\u001b[0;34m,\u001b[0m \u001b[0;34m'I10_DX18'\u001b[0m\u001b[0;34m,\u001b[0m \u001b[0;34m'I10_DX19'\u001b[0m\u001b[0;34m,\u001b[0m \u001b[0;34m'I10_DX20'\u001b[0m\u001b[0;34m,\u001b[0m \u001b[0;34m'I10_DX21'\u001b[0m\u001b[0;34m,\u001b[0m \u001b[0;34m'I10_DX22'\u001b[0m\u001b[0;34m,\u001b[0m \u001b[0;34m'I10_DX23'\u001b[0m\u001b[0;34m,\u001b[0m \u001b[0;34m'I10_DX24'\u001b[0m\u001b[0;34m,\u001b[0m \u001b[0;34m'I10_DX25'\u001b[0m\u001b[0;34m,\u001b[0m \u001b[0;34m'I10_DX26'\u001b[0m\u001b[0;34m,\u001b[0m \u001b[0;34m'I10_DX27'\u001b[0m\u001b[0;34m,\u001b[0m \u001b[0;34m'I10_DX28'\u001b[0m\u001b[0;34m,\u001b[0m \u001b[0;34m'I10_DX29'\u001b[0m\u001b[0;34m,\u001b[0m \u001b[0;34m'I10_DX30'\u001b[0m\u001b[0;34m,\u001b[0m \u001b[0;34m'LOS'\u001b[0m\u001b[0;34m,\u001b[0m \u001b[0;34m'KEY_NIS'\u001b[0m\u001b[0;34m,\u001b[0m \u001b[0;34m'RACE'\u001b[0m\u001b[0;34m,\u001b[0m \u001b[0;34m'TOTCHG'\u001b[0m\u001b[0;34m,\u001b[0m \u001b[0;34m'YEAR'\u001b[0m\u001b[0;34m]\u001b[0m\u001b[0;34m]\u001b[0m\u001b[0;34m)\u001b[0m\u001b[0;34m\u001b[0m\u001b[0;34m\u001b[0m\u001b[0m\n\u001b[0m\u001b[1;32m      9\u001b[0m     \u001b[0mprint\u001b[0m\u001b[0;34m(\u001b[0m\u001b[0;34mf'Appended Chunk List for: {file}'\u001b[0m \u001b[0;34m)\u001b[0m\u001b[0;34m\u001b[0m\u001b[0;34m\u001b[0m\u001b[0m\n\u001b[1;32m     10\u001b[0m \u001b[0;31m# concat the list into dataframe\u001b[0m\u001b[0;34m\u001b[0m\u001b[0;34m\u001b[0m\u001b[0;34m\u001b[0m\u001b[0m\n",
      "\u001b[0;32m~/anaconda3/envs/PythonData/lib/python3.6/site-packages/pandas/core/frame.py\u001b[0m in \u001b[0;36m__getitem__\u001b[0;34m(self, key)\u001b[0m\n\u001b[1;32m   2999\u001b[0m             \u001b[0;32mif\u001b[0m \u001b[0mis_iterator\u001b[0m\u001b[0;34m(\u001b[0m\u001b[0mkey\u001b[0m\u001b[0;34m)\u001b[0m\u001b[0;34m:\u001b[0m\u001b[0;34m\u001b[0m\u001b[0;34m\u001b[0m\u001b[0m\n\u001b[1;32m   3000\u001b[0m                 \u001b[0mkey\u001b[0m \u001b[0;34m=\u001b[0m \u001b[0mlist\u001b[0m\u001b[0;34m(\u001b[0m\u001b[0mkey\u001b[0m\u001b[0;34m)\u001b[0m\u001b[0;34m\u001b[0m\u001b[0;34m\u001b[0m\u001b[0m\n\u001b[0;32m-> 3001\u001b[0;31m             \u001b[0mindexer\u001b[0m \u001b[0;34m=\u001b[0m \u001b[0mself\u001b[0m\u001b[0;34m.\u001b[0m\u001b[0mloc\u001b[0m\u001b[0;34m.\u001b[0m\u001b[0m_convert_to_indexer\u001b[0m\u001b[0;34m(\u001b[0m\u001b[0mkey\u001b[0m\u001b[0;34m,\u001b[0m \u001b[0maxis\u001b[0m\u001b[0;34m=\u001b[0m\u001b[0;36m1\u001b[0m\u001b[0;34m,\u001b[0m \u001b[0mraise_missing\u001b[0m\u001b[0;34m=\u001b[0m\u001b[0;32mTrue\u001b[0m\u001b[0;34m)\u001b[0m\u001b[0;34m\u001b[0m\u001b[0;34m\u001b[0m\u001b[0m\n\u001b[0m\u001b[1;32m   3002\u001b[0m \u001b[0;34m\u001b[0m\u001b[0m\n\u001b[1;32m   3003\u001b[0m         \u001b[0;31m# take() does not accept boolean indexers\u001b[0m\u001b[0;34m\u001b[0m\u001b[0;34m\u001b[0m\u001b[0;34m\u001b[0m\u001b[0m\n",
      "\u001b[0;32m~/anaconda3/envs/PythonData/lib/python3.6/site-packages/pandas/core/indexing.py\u001b[0m in \u001b[0;36m_convert_to_indexer\u001b[0;34m(self, obj, axis, is_setter, raise_missing)\u001b[0m\n\u001b[1;32m   1283\u001b[0m                 \u001b[0;31m# When setting, missing keys are not allowed, even with .loc:\u001b[0m\u001b[0;34m\u001b[0m\u001b[0;34m\u001b[0m\u001b[0;34m\u001b[0m\u001b[0m\n\u001b[1;32m   1284\u001b[0m                 \u001b[0mkwargs\u001b[0m \u001b[0;34m=\u001b[0m \u001b[0;34m{\u001b[0m\u001b[0;34m\"raise_missing\"\u001b[0m\u001b[0;34m:\u001b[0m \u001b[0;32mTrue\u001b[0m \u001b[0;32mif\u001b[0m \u001b[0mis_setter\u001b[0m \u001b[0;32melse\u001b[0m \u001b[0mraise_missing\u001b[0m\u001b[0;34m}\u001b[0m\u001b[0;34m\u001b[0m\u001b[0;34m\u001b[0m\u001b[0m\n\u001b[0;32m-> 1285\u001b[0;31m                 \u001b[0;32mreturn\u001b[0m \u001b[0mself\u001b[0m\u001b[0;34m.\u001b[0m\u001b[0m_get_listlike_indexer\u001b[0m\u001b[0;34m(\u001b[0m\u001b[0mobj\u001b[0m\u001b[0;34m,\u001b[0m \u001b[0maxis\u001b[0m\u001b[0;34m,\u001b[0m \u001b[0;34m**\u001b[0m\u001b[0mkwargs\u001b[0m\u001b[0;34m)\u001b[0m\u001b[0;34m[\u001b[0m\u001b[0;36m1\u001b[0m\u001b[0;34m]\u001b[0m\u001b[0;34m\u001b[0m\u001b[0;34m\u001b[0m\u001b[0m\n\u001b[0m\u001b[1;32m   1286\u001b[0m         \u001b[0;32melse\u001b[0m\u001b[0;34m:\u001b[0m\u001b[0;34m\u001b[0m\u001b[0;34m\u001b[0m\u001b[0m\n\u001b[1;32m   1287\u001b[0m             \u001b[0;32mtry\u001b[0m\u001b[0;34m:\u001b[0m\u001b[0;34m\u001b[0m\u001b[0;34m\u001b[0m\u001b[0m\n",
      "\u001b[0;32m~/anaconda3/envs/PythonData/lib/python3.6/site-packages/pandas/core/indexing.py\u001b[0m in \u001b[0;36m_get_listlike_indexer\u001b[0;34m(self, key, axis, raise_missing)\u001b[0m\n\u001b[1;32m   1090\u001b[0m \u001b[0;34m\u001b[0m\u001b[0m\n\u001b[1;32m   1091\u001b[0m         self._validate_read_indexer(\n\u001b[0;32m-> 1092\u001b[0;31m             \u001b[0mkeyarr\u001b[0m\u001b[0;34m,\u001b[0m \u001b[0mindexer\u001b[0m\u001b[0;34m,\u001b[0m \u001b[0mo\u001b[0m\u001b[0;34m.\u001b[0m\u001b[0m_get_axis_number\u001b[0m\u001b[0;34m(\u001b[0m\u001b[0maxis\u001b[0m\u001b[0;34m)\u001b[0m\u001b[0;34m,\u001b[0m \u001b[0mraise_missing\u001b[0m\u001b[0;34m=\u001b[0m\u001b[0mraise_missing\u001b[0m\u001b[0;34m\u001b[0m\u001b[0;34m\u001b[0m\u001b[0m\n\u001b[0m\u001b[1;32m   1093\u001b[0m         )\n\u001b[1;32m   1094\u001b[0m         \u001b[0;32mreturn\u001b[0m \u001b[0mkeyarr\u001b[0m\u001b[0;34m,\u001b[0m \u001b[0mindexer\u001b[0m\u001b[0;34m\u001b[0m\u001b[0;34m\u001b[0m\u001b[0m\n",
      "\u001b[0;32m~/anaconda3/envs/PythonData/lib/python3.6/site-packages/pandas/core/indexing.py\u001b[0m in \u001b[0;36m_validate_read_indexer\u001b[0;34m(self, key, indexer, axis, raise_missing)\u001b[0m\n\u001b[1;32m   1183\u001b[0m             \u001b[0;32mif\u001b[0m \u001b[0;32mnot\u001b[0m \u001b[0;34m(\u001b[0m\u001b[0mself\u001b[0m\u001b[0;34m.\u001b[0m\u001b[0mname\u001b[0m \u001b[0;34m==\u001b[0m \u001b[0;34m\"loc\"\u001b[0m \u001b[0;32mand\u001b[0m \u001b[0;32mnot\u001b[0m \u001b[0mraise_missing\u001b[0m\u001b[0;34m)\u001b[0m\u001b[0;34m:\u001b[0m\u001b[0;34m\u001b[0m\u001b[0;34m\u001b[0m\u001b[0m\n\u001b[1;32m   1184\u001b[0m                 \u001b[0mnot_found\u001b[0m \u001b[0;34m=\u001b[0m \u001b[0mlist\u001b[0m\u001b[0;34m(\u001b[0m\u001b[0mset\u001b[0m\u001b[0;34m(\u001b[0m\u001b[0mkey\u001b[0m\u001b[0;34m)\u001b[0m \u001b[0;34m-\u001b[0m \u001b[0mset\u001b[0m\u001b[0;34m(\u001b[0m\u001b[0max\u001b[0m\u001b[0;34m)\u001b[0m\u001b[0;34m)\u001b[0m\u001b[0;34m\u001b[0m\u001b[0;34m\u001b[0m\u001b[0m\n\u001b[0;32m-> 1185\u001b[0;31m                 \u001b[0;32mraise\u001b[0m \u001b[0mKeyError\u001b[0m\u001b[0;34m(\u001b[0m\u001b[0;34m\"{} not in index\"\u001b[0m\u001b[0;34m.\u001b[0m\u001b[0mformat\u001b[0m\u001b[0;34m(\u001b[0m\u001b[0mnot_found\u001b[0m\u001b[0;34m)\u001b[0m\u001b[0;34m)\u001b[0m\u001b[0;34m\u001b[0m\u001b[0;34m\u001b[0m\u001b[0m\n\u001b[0m\u001b[1;32m   1186\u001b[0m \u001b[0;34m\u001b[0m\u001b[0m\n\u001b[1;32m   1187\u001b[0m             \u001b[0;31m# we skip the warning on Categorical/Interval\u001b[0m\u001b[0;34m\u001b[0m\u001b[0;34m\u001b[0m\u001b[0;34m\u001b[0m\u001b[0m\n",
      "\u001b[0;31mKeyError\u001b[0m: \"['I10_DX25', 'I10_DX6', 'I10_DX26', 'I10_DX27', 'I10_DX22', 'I10_DX1', 'I10_DX13', 'I10_DX28', 'I10_DX4', 'I10_DX9', 'I10_DX7', 'I10_DX16', 'I10_DX10', 'I10_DX2', 'I10_DX12', 'I10_DX21', 'I10_DX17', 'I10_DX3', 'DXVER', 'I10_DX15', 'I10_DX29', 'I10_DX11', 'I10_DX30', 'I10_DX18', 'I10_DX5', 'I10_DX14', 'I10_DX8', 'I10_DX20', 'I10_DX23', 'I10_DX19', 'I10_DX24'] not in index\""
     ]
    }
   ],
   "source": [
    "for file in NIS_Files:\n",
    "    NISchunk= pd.read_sas(file,format='sas7bdat', index=None, encoding='ISO-8859-1', chunksize= 100000)\n",
    "    chunk_list = []  # append each chunk df here \n",
    "    print(f'Created Chunk List for: {file}' )\n",
    "\n",
    "# Each chunk is in df format\n",
    "    for chunk in NISchunk:  \n",
    "        chunk_list.append(chunk[['AGE', 'AMONTH', 'DIED', 'DISCWT', 'DXVER', 'FEMALE', 'HOSP_DIVISION', 'I10_DX1', 'I10_DX2', 'I10_DX3', 'I10_DX4', 'I10_DX5', 'I10_DX6', 'I10_DX7', 'I10_DX8', 'I10_DX9', 'I10_DX10', 'I10_DX11', 'I10_DX12', 'I10_DX13', 'I10_DX14', 'I10_DX15', 'I10_DX16', 'I10_DX17', 'I10_DX18', 'I10_DX19', 'I10_DX20', 'I10_DX21', 'I10_DX22', 'I10_DX23', 'I10_DX24', 'I10_DX25', 'I10_DX26', 'I10_DX27', 'I10_DX28', 'I10_DX29', 'I10_DX30', 'LOS', 'KEY_NIS', 'RACE', 'TOTCHG', 'YEAR']])\n",
    "    print(f'Appended Chunk List for: {file}' )\n",
    "# concat the list into dataframe \n",
    "    df_concat = pd.concat(chunk_list)\n",
    "    print(f'created the big dataframe for: {file}' )\n",
    "    #Create a column specifying if the discharge had a diagnosis of Influenza\n",
    "    Influenza= ['J09X1', 'J09X2', 'J09X3', 'J09X9', 'J1000', 'J1001', 'J1008', 'J101', 'J102', 'J1081', 'J1082', 'J1083', 'J1089', 'J1100', 'J1108', 'J111', 'J112', 'J1181', 'J1182', 'J1183', 'J1189']\n",
    "    df_concat['Influenza'] = df_concat['I10_DX1'].isin(Influenza)| df_concat['I10_DX2'].isin(Influenza)| df_concat['I10_DX3'].isin(Influenza)| df_concat['I10_DX4'].isin(Influenza)| df_concat['I10_DX5'].isin(Influenza)| df_concat['I10_DX6'].isin(Influenza)| df_concat['I10_DX7'].isin(Influenza)| df_concat['I10_DX8'].isin(Influenza)| df_concat['I10_DX9'].isin(Influenza)| df_concat['I10_DX10'].isin(Influenza)| df_concat['I10_DX11'].isin(Influenza)| df_concat['I10_DX12'].isin(Influenza)| df_concat['I10_DX13'].isin(Influenza)| df_concat['I10_DX14'].isin(Influenza)| df_concat['I10_DX15'].isin(Influenza)| df_concat['I10_DX16'].isin(Influenza)| df_concat['I10_DX17'].isin(Influenza)| df_concat['I10_DX18'].isin(Influenza)| df_concat['I10_DX19'].isin(Influenza)| df_concat['I10_DX20'].isin(Influenza)| df_concat['I10_DX21'].isin(Influenza)| df_concat['I10_DX22'].isin(Influenza)| df_concat['I10_DX23'].isin(Influenza)| df_concat['I10_DX24'].isin(Influenza)| df_concat['I10_DX25'].isin(Influenza)| df_concat['I10_DX26'].isin(Influenza)| df_concat['I10_DX27'].isin(Influenza)| df_concat['I10_DX28'].isin(Influenza)| df_concat['I10_DX29'].isin(Influenza)| df_concat['I10_DX30'].isin(Influenza)\n",
    "    print(f'created a dataframe with influenza admissions for : {file}' )\n",
    "\n",
    "    # Create a column specifying if the discharge had a diagnosis of myocardial infarction\n",
    "    MI = [\"I2101\", \"I2102\", 'I2109', 'I2111', 'I2119', 'I2121', 'I2129', 'I213', 'I214', 'I219', 'I21A1', 'I21A9', 'I220', 'I221', 'I222', 'I228', 'I229', 'I230', 'I231', 'I232', 'I233', 'I234', 'I235', 'I236', 'I237', 'I238', 'I241']\n",
    "    df_concat['MI'] = df_concat['I10_DX1'].isin(MI)| df_concat['I10_DX2'].isin(MI)| df_concat['I10_DX3'].isin(MI)| df_concat['I10_DX4'].isin(MI)| df_concat['I10_DX5'].isin(MI)| df_concat['I10_DX6'].isin(MI)| df_concat['I10_DX7'].isin(MI)| df_concat['I10_DX8'].isin(MI)| df_concat['I10_DX9'].isin(MI)| df_concat['I10_DX10'].isin(MI)| df_concat['I10_DX11'].isin(MI)| df_concat['I10_DX12'].isin(MI)| df_concat['I10_DX13'].isin(MI)| df_concat['I10_DX14'].isin(MI)| df_concat['I10_DX15'].isin(MI)| df_concat['I10_DX16'].isin(MI)| df_concat['I10_DX17'].isin(MI)| df_concat['I10_DX18'].isin(MI)| df_concat['I10_DX19'].isin(MI)| df_concat['I10_DX20'].isin(MI)| df_concat['I10_DX21'].isin(MI)| df_concat['I10_DX22'].isin(MI)| df_concat['I10_DX23'].isin(MI)| df_concat['I10_DX24'].isin(MI)| df_concat['I10_DX25'].isin(MI)| df_concat['I10_DX26'].isin(MI)| df_concat['I10_DX27'].isin(MI)| df_concat['I10_DX28'].isin(MI)| df_concat['I10_DX29'].isin(MI)| df_concat['I10_DX30'].isin(MI)\n",
    "    print(f'created a dataframe with MI admissions for : {file}' )\n",
    "    sum_df = pd.DataFrame(df_concat.loc[df_concat['Influenza']== True].groupby('AMONTH').sum())\n",
    "    # Create a new data frame object grouped by region and month and only including influenza discharges\n",
    "    Influenza_Regional = pd.DataFrame(df_concat.loc[df_concat['Influenza']== True].groupby(['YEAR','HOSP_DIVISION','AMONTH']).sum())\n",
    "    Influenza_Regional = Influenza_Regional[['DISCWT']]\n",
    "    Influenza_Regional = Influenza_Regional.rename(columns = {'DISCWT': 'Influenza Incidence'})\n",
    "    print(f'created a dataframe with only regional Influenza admissions incidence : {file}' )\n",
    "\n",
    "    # Same process without region for a total incidence \n",
    "    Influenza_Total = pd.DataFrame(df_concat.loc[df_concat['Influenza']== True].groupby(['YEAR','AMONTH']).sum())\n",
    "    Influenza_Total = Influenza_Total[['DISCWT']]\n",
    "    Influenza_Total = Influenza_Total.rename(columns = {'DISCWT': 'Influenza Incidence'})\n",
    "    Influenza_Total.head()\n",
    "    print(f'created a dataframe with only total Influenza admissions incidence : {file}' )\n",
    "\n",
    "    # MI Regional\n",
    "    MI_Regional = pd.DataFrame(df_concat.loc[df_concat['MI']== True].groupby(['YEAR','HOSP_DIVISION','AMONTH']).sum())\n",
    "    MI_Regional = MI_Regional[['DISCWT']]\n",
    "    MI_Regional = MI_Regional.rename(columns = {'DISCWT': 'MI Incidence'})\n",
    "    print(f'created a dataframe with only regional MI admissions incidence : {file}' )\n",
    "\n",
    "    # MI Total\n",
    "    MI_Total = pd.DataFrame(df_concat.loc[df_concat['MI']== True].groupby(['YEAR','AMONTH']).sum())\n",
    "    MI_Total = MI_Total[['DISCWT']]\n",
    "    MI_Total = MI_Total.rename(columns = {'DISCWT': 'MI Incidence'})\n",
    "    print(f'created a dataframe with only total MI admissions incidence : {file}' )\n",
    "\n",
    "    #Both Merged to two dataframes\n",
    "    Both_Regional = pd.merge(Influenza_Regional, MI_Regional, how = 'inner', on= ['YEAR','HOSP_DIVISION','AMONTH'])\n",
    "    Both_Total = pd.merge(Influenza_Total, MI_Total, how = 'inner', on= ['YEAR','AMONTH'])\n",
    "    Both_Main = pd.merge(Both_Total, Both_Main, how = 'outer', on = ['YEAR','HOSP_DIVISION','AMONTH'])\n",
    "    print(f'Merged data from: {file} into the main DataFrame' )\n"
   ]
  },
  {
   "cell_type": "markdown",
   "metadata": {},
   "source": [
    "# "
   ]
  },
  {
   "cell_type": "code",
   "execution_count": null,
   "metadata": {},
   "outputs": [],
   "source": []
  },
  {
   "cell_type": "code",
   "execution_count": null,
   "metadata": {},
   "outputs": [],
   "source": []
  }
 ],
 "metadata": {
  "kernelspec": {
   "display_name": "Python 3",
   "language": "python",
   "name": "python3"
  },
  "language_info": {
   "codemirror_mode": {
    "name": "ipython",
    "version": 3
   },
   "file_extension": ".py",
   "mimetype": "text/x-python",
   "name": "python",
   "nbconvert_exporter": "python",
   "pygments_lexer": "ipython3",
   "version": "3.6.7"
  }
 },
 "nbformat": 4,
 "nbformat_minor": 2
}
